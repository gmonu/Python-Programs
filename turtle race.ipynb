{
 "cells": [
  {
   "cell_type": "code",
   "execution_count": 3,
   "metadata": {},
   "outputs": [],
   "source": [
    "import turtle\n",
    "from random import *\n",
    "from turtle import *\n",
    "\n",
    "penup()\n",
    "goto(-140,140) #positioning the pen\n",
    "\n",
    "for sp in range(15): #loop for creating the lines labelled with numbers\n",
    "  speed(10)\n",
    " #setting the speed\n",
    "  write(sp)\n",
    " #writing the int\n",
    "  right(90)\n",
    " #setting right at 90 degrees\n",
    "  forward(10)\n",
    " #forward at 10 units\n",
    "  pendown()\n",
    " #ready to draw\n",
    "  forward(150)\n",
    " #forward at 150 units\n",
    "  penup()\n",
    " #not ready to draw\n",
    "  backward(160)\n",
    " #back at 160 units\n",
    "  left(90)\n",
    " #left set at 90 degrees\n",
    "  forward(20)\n",
    " #forward at 20 units\n",
    "\n",
    "\n",
    "ankur = Turtle() #inheriting the turtle\n",
    "ankur.color('green') #setting the color to green for the first turtle\n",
    "ankur.shape('turtle') #setting the shape to \"turtle\"\n",
    "ankur.penup() #not ready to draw\n",
    "ankur.goto(-160,100) #positioning the turtle\n",
    "ankur.pendown() #ready todraw\n",
    "\n",
    "\n",
    "gajurel = Turtle() #inheriting another turtle\n",
    "gajurel.color('red') #setting the color og the turtle to red\n",
    "gajurel.shape('turtle') #declaring the shape of the turtle to \"turtle\"\n",
    "gajurel.penup() #not ready to draw\n",
    "gajurel.goto(-160,80) #positioning\n",
    "gajurel.pendown() #ready to draw\n",
    "\n",
    "turtleVar = Turtle() #inheriting the last turtle\n",
    "turtleVar.color('blue') #setting the color of the turtle as \"blue\"\n",
    "turtleVar.shape('turtle') #declaring the shape of the turtle\n",
    "turtleVar.penup() #not ready to draw\n",
    "turtleVar.goto(-160,60) #positioning\n",
    "turtleVar.pendown() #ready\n",
    "\n",
    "for turn in range(100): #loop for the racew\n",
    "  ankur.forward(randint(1,5)) #setting the speed randomly with the \"random\" module\n",
    "  gajurel.forward(randint(1,5)) #setting the speed randomly with the \"random\" module\n",
    "  turtleVar.forward(randint(1,5)) #setting the speed randomly with the \"random\" module\n",
    "\n",
    "turtle.done()"
   ]
  },
  {
   "cell_type": "code",
   "execution_count": null,
   "metadata": {},
   "outputs": [],
   "source": []
  }
 ],
 "metadata": {
  "kernelspec": {
   "display_name": "Python 3",
   "language": "python",
   "name": "python3"
  },
  "language_info": {
   "codemirror_mode": {
    "name": "ipython",
    "version": 3
   },
   "file_extension": ".py",
   "mimetype": "text/x-python",
   "name": "python",
   "nbconvert_exporter": "python",
   "pygments_lexer": "ipython3",
   "version": "3.7.0"
  }
 },
 "nbformat": 4,
 "nbformat_minor": 4
}
