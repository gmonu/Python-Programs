{
 "cells": [
  {
   "cell_type": "code",
   "execution_count": 1,
   "metadata": {},
   "outputs": [
    {
     "ename": "TclError",
     "evalue": "invalid command name \".!canvas\"",
     "output_type": "error",
     "traceback": [
      "\u001b[1;31m---------------------------------------------------------------------------\u001b[0m",
      "\u001b[1;31mTclError\u001b[0m                                  Traceback (most recent call last)",
      "\u001b[1;32m<ipython-input-1-87d4393b183b>\u001b[0m in \u001b[0;36m<module>\u001b[1;34m\u001b[0m\n\u001b[0;32m     58\u001b[0m     \u001b[0mscreen\u001b[0m\u001b[1;33m.\u001b[0m\u001b[0mupdate\u001b[0m\u001b[1;33m(\u001b[0m\u001b[1;33m)\u001b[0m \u001b[1;31m#updating the scren\u001b[0m\u001b[1;33m\u001b[0m\u001b[0m\n\u001b[0;32m     59\u001b[0m     \u001b[0mtime\u001b[0m\u001b[1;33m.\u001b[0m\u001b[0msleep\u001b[0m\u001b[1;33m(\u001b[0m\u001b[1;36m1\u001b[0m\u001b[1;33m)\u001b[0m \u001b[1;31m#making the code sleep for a second with the time module\u001b[0m\u001b[1;33m\u001b[0m\u001b[0m\n\u001b[1;32m---> 60\u001b[1;33m     \u001b[0mkalam\u001b[0m\u001b[1;33m.\u001b[0m\u001b[0mclear\u001b[0m\u001b[1;33m(\u001b[0m\u001b[1;33m)\u001b[0m \u001b[1;31m#clearing the pen\u001b[0m\u001b[1;33m\u001b[0m\u001b[0m\n\u001b[0m\u001b[0;32m     61\u001b[0m \u001b[1;33m\u001b[0m\u001b[0m\n",
      "\u001b[1;32mc:\\users\\monu\\appdata\\local\\programs\\python\\python37\\lib\\turtle.py\u001b[0m in \u001b[0;36mclear\u001b[1;34m(self)\u001b[0m\n\u001b[0;32m   2640\u001b[0m         \u001b[1;33m>>\u001b[0m\u001b[1;33m>\u001b[0m \u001b[0mturtle\u001b[0m\u001b[1;33m.\u001b[0m\u001b[0mclear\u001b[0m\u001b[1;33m(\u001b[0m\u001b[1;33m)\u001b[0m\u001b[1;33m\u001b[0m\u001b[0m\n\u001b[0;32m   2641\u001b[0m         \"\"\"\n\u001b[1;32m-> 2642\u001b[1;33m         \u001b[0mself\u001b[0m\u001b[1;33m.\u001b[0m\u001b[0m_clear\u001b[0m\u001b[1;33m(\u001b[0m\u001b[1;33m)\u001b[0m\u001b[1;33m\u001b[0m\u001b[0m\n\u001b[0m\u001b[0;32m   2643\u001b[0m         \u001b[0mself\u001b[0m\u001b[1;33m.\u001b[0m\u001b[0m_update\u001b[0m\u001b[1;33m(\u001b[0m\u001b[1;33m)\u001b[0m\u001b[1;33m\u001b[0m\u001b[0m\n\u001b[0;32m   2644\u001b[0m \u001b[1;33m\u001b[0m\u001b[0m\n",
      "\u001b[1;32mc:\\users\\monu\\appdata\\local\\programs\\python\\python37\\lib\\turtle.py\u001b[0m in \u001b[0;36m_clear\u001b[1;34m(self)\u001b[0m\n\u001b[0;32m   2618\u001b[0m         \u001b[0mself\u001b[0m\u001b[1;33m.\u001b[0m\u001b[0m_fillitem\u001b[0m \u001b[1;33m=\u001b[0m \u001b[0mself\u001b[0m\u001b[1;33m.\u001b[0m\u001b[0m_fillpath\u001b[0m \u001b[1;33m=\u001b[0m \u001b[1;32mNone\u001b[0m\u001b[1;33m\u001b[0m\u001b[0m\n\u001b[0;32m   2619\u001b[0m         \u001b[1;32mfor\u001b[0m \u001b[0mitem\u001b[0m \u001b[1;32min\u001b[0m \u001b[0mself\u001b[0m\u001b[1;33m.\u001b[0m\u001b[0mitems\u001b[0m\u001b[1;33m:\u001b[0m\u001b[1;33m\u001b[0m\u001b[0m\n\u001b[1;32m-> 2620\u001b[1;33m             \u001b[0mself\u001b[0m\u001b[1;33m.\u001b[0m\u001b[0mscreen\u001b[0m\u001b[1;33m.\u001b[0m\u001b[0m_delete\u001b[0m\u001b[1;33m(\u001b[0m\u001b[0mitem\u001b[0m\u001b[1;33m)\u001b[0m\u001b[1;33m\u001b[0m\u001b[0m\n\u001b[0m\u001b[0;32m   2621\u001b[0m         \u001b[0mself\u001b[0m\u001b[1;33m.\u001b[0m\u001b[0mcurrentLineItem\u001b[0m \u001b[1;33m=\u001b[0m \u001b[0mself\u001b[0m\u001b[1;33m.\u001b[0m\u001b[0mscreen\u001b[0m\u001b[1;33m.\u001b[0m\u001b[0m_createline\u001b[0m\u001b[1;33m(\u001b[0m\u001b[1;33m)\u001b[0m\u001b[1;33m\u001b[0m\u001b[0m\n\u001b[0;32m   2622\u001b[0m         \u001b[0mself\u001b[0m\u001b[1;33m.\u001b[0m\u001b[0mcurrentLine\u001b[0m \u001b[1;33m=\u001b[0m \u001b[1;33m[\u001b[0m\u001b[1;33m]\u001b[0m\u001b[1;33m\u001b[0m\u001b[0m\n",
      "\u001b[1;32mc:\\users\\monu\\appdata\\local\\programs\\python\\python37\\lib\\turtle.py\u001b[0m in \u001b[0;36m_delete\u001b[1;34m(self, item)\u001b[0m\n\u001b[0;32m    555\u001b[0m         \u001b[0mIf\u001b[0m \u001b[0mitem\u001b[0m \u001b[1;32mis\u001b[0m\u001b[1;34m\"all\"\u001b[0m \u001b[0mdelete\u001b[0m \u001b[0mall\u001b[0m \u001b[0mgraphics\u001b[0m \u001b[0mitems\u001b[0m\u001b[1;33m.\u001b[0m\u001b[1;33m\u001b[0m\u001b[0m\n\u001b[0;32m    556\u001b[0m         \"\"\"\n\u001b[1;32m--> 557\u001b[1;33m         \u001b[0mself\u001b[0m\u001b[1;33m.\u001b[0m\u001b[0mcv\u001b[0m\u001b[1;33m.\u001b[0m\u001b[0mdelete\u001b[0m\u001b[1;33m(\u001b[0m\u001b[0mitem\u001b[0m\u001b[1;33m)\u001b[0m\u001b[1;33m\u001b[0m\u001b[0m\n\u001b[0m\u001b[0;32m    558\u001b[0m \u001b[1;33m\u001b[0m\u001b[0m\n\u001b[0;32m    559\u001b[0m     \u001b[1;32mdef\u001b[0m \u001b[0m_update\u001b[0m\u001b[1;33m(\u001b[0m\u001b[0mself\u001b[0m\u001b[1;33m)\u001b[0m\u001b[1;33m:\u001b[0m\u001b[1;33m\u001b[0m\u001b[0m\n",
      "\u001b[1;32m<string>\u001b[0m in \u001b[0;36mdelete\u001b[1;34m(self, *args, **kw)\u001b[0m\n",
      "\u001b[1;32mc:\\users\\monu\\appdata\\local\\programs\\python\\python37\\lib\\tkinter\\__init__.py\u001b[0m in \u001b[0;36mdelete\u001b[1;34m(self, *args)\u001b[0m\n\u001b[0;32m   2509\u001b[0m     \u001b[1;32mdef\u001b[0m \u001b[0mdelete\u001b[0m\u001b[1;33m(\u001b[0m\u001b[0mself\u001b[0m\u001b[1;33m,\u001b[0m \u001b[1;33m*\u001b[0m\u001b[0margs\u001b[0m\u001b[1;33m)\u001b[0m\u001b[1;33m:\u001b[0m\u001b[1;33m\u001b[0m\u001b[0m\n\u001b[0;32m   2510\u001b[0m         \u001b[1;34m\"\"\"Delete items identified by all tag or ids contained in ARGS.\"\"\"\u001b[0m\u001b[1;33m\u001b[0m\u001b[0m\n\u001b[1;32m-> 2511\u001b[1;33m         \u001b[0mself\u001b[0m\u001b[1;33m.\u001b[0m\u001b[0mtk\u001b[0m\u001b[1;33m.\u001b[0m\u001b[0mcall\u001b[0m\u001b[1;33m(\u001b[0m\u001b[1;33m(\u001b[0m\u001b[0mself\u001b[0m\u001b[1;33m.\u001b[0m\u001b[0m_w\u001b[0m\u001b[1;33m,\u001b[0m \u001b[1;34m'delete'\u001b[0m\u001b[1;33m)\u001b[0m \u001b[1;33m+\u001b[0m \u001b[0margs\u001b[0m\u001b[1;33m)\u001b[0m\u001b[1;33m\u001b[0m\u001b[0m\n\u001b[0m\u001b[0;32m   2512\u001b[0m     \u001b[1;32mdef\u001b[0m \u001b[0mdtag\u001b[0m\u001b[1;33m(\u001b[0m\u001b[0mself\u001b[0m\u001b[1;33m,\u001b[0m \u001b[1;33m*\u001b[0m\u001b[0margs\u001b[0m\u001b[1;33m)\u001b[0m\u001b[1;33m:\u001b[0m\u001b[1;33m\u001b[0m\u001b[0m\n\u001b[0;32m   2513\u001b[0m         \"\"\"Delete tag or id given as last arguments in ARGS from items\n",
      "\u001b[1;31mTclError\u001b[0m: invalid command name \".!canvas\""
     ]
    }
   ],
   "source": [
    "import turtle\n",
    "import time\n",
    "\n",
    "screen = turtle.Screen() #turtle screen\n",
    "screen.bgcolor(\"white\") #background of the screen\n",
    "screen.setup(width=600, height=600) #geometry of the GUI\n",
    "screen.title(\"Ghadi\") #title of the GUI\n",
    "screen.tracer(0) #tracer for the GUI\n",
    "\n",
    "kalam = turtle.Turtle() #the turtle\n",
    "kalam.hideturtle() #make the turtle invisible\n",
    "kalam.speed(0) #setting the speed to 0\n",
    "kalam.pensize(3) #setting the pensize to 3\n",
    "\n",
    "\n",
    "def ghadi_bana(ghantaa, minutee, secondd, kalam): #function with 4 parameters\n",
    "\n",
    "    kalam.up() #not ready to draw\n",
    "    kalam.goto(0, 210) #positioning the turtle\n",
    "    kalam.setheading(180) #setting the heading to 180\n",
    "    kalam.color(\"blue\") #setting the color of the pen to red\n",
    "    kalam.pendown() #starting to draw\n",
    "    kalam.circle(210) #a circle with the radius 210\n",
    "\n",
    "    kalam.up() #not ready to draw\n",
    "    kalam.goto(0, 0) #positioning the turtle\n",
    "    kalam.setheading(90) #same as seth(90) in newer version\n",
    "\n",
    "    for z in range(12): #loop \n",
    "        kalam.fd(190) #moving forward at 190 units\n",
    "        kalam.pendown() #starting to draw\n",
    "        kalam.fd(20) #forward at 20\n",
    "        kalam.penup() #not ready to draw\n",
    "        kalam.goto(0, 0) #positioning the turtle\n",
    "        kalam.rt(30) #right at an angle of 30 degrees\n",
    "\n",
    "    hands = [(\"black\", 80, 12), (\"black\", 150, 60), (\"black\", 110, 60)] #the color and the hands set\n",
    "    time_set = (ghantaa, minutee, secondd) #setting the time\n",
    "\n",
    "    for hand in hands: #loop\n",
    "        time_part = time_set[hands.index(hand)] #time part in the hand index in hands of time_Set\n",
    "        angle = (time_part/hand[2])*360 #setting the angle for the clock\n",
    "        kalam.penup() #not ready to draw\n",
    "        kalam.goto(0, 0) #positioning the turtle\n",
    "        kalam.color(hand[0]) #setting the color of the hand\n",
    "        kalam.setheading(90) #same as seth(90)\n",
    "        kalam.rt(angle) #right at an angle of \"right\"\n",
    "        kalam.pendown() #ready to draw\n",
    "        kalam.fd(hand[1]) #forward at a unit of 1st index of the hand var\n",
    "\n",
    "\n",
    "while True:\n",
    "    ghantaa = int(time.strftime(\"%I\")) #setting the hour from the time module\n",
    "    minutee = int(time.strftime(\"%M\")) #setting the minute from the time module\n",
    "    secondd = int(time.strftime(\"%S\")) #setting the second as above\n",
    "\n",
    "    ghadi_bana(ghantaa, minutee, secondd, kalam) #calling the ghanta_bana() function with the given parameters\n",
    "    screen.update() #updating the scren\n",
    "    time.sleep(1) #making the code sleep for a second with the time module\n",
    "    kalam.clear() #clearing the pen\n",
    "    "
   ]
  },
  {
   "cell_type": "code",
   "execution_count": null,
   "metadata": {},
   "outputs": [],
   "source": []
  }
 ],
 "metadata": {
  "kernelspec": {
   "display_name": "Python 3",
   "language": "python",
   "name": "python3"
  },
  "language_info": {
   "codemirror_mode": {
    "name": "ipython",
    "version": 3
   },
   "file_extension": ".py",
   "mimetype": "text/x-python",
   "name": "python",
   "nbconvert_exporter": "python",
   "pygments_lexer": "ipython3",
   "version": "3.7.0"
  }
 },
 "nbformat": 4,
 "nbformat_minor": 4
}
